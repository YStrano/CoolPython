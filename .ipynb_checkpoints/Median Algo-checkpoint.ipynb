{
 "cells": [
  {
   "cell_type": "markdown",
   "metadata": {},
   "source": [
    "## Exploration into Median\n",
    "\n",
    "The below isn't a formula, but an algorithm.\n",
    "\n",
    "Let's write it out so that it works for any set of numbers. Let x be the size of the set (number of numbers).\n",
    "\n",
    "- Sort the numbers in ascending sequence. \n",
    "- Let the sorted members be N(1), N(2)… N(x).\n",
    "- If x is odd, the median will be N(y), where y = (x + 1)/2, that is, the middle member.\n",
    "- Otherwise, the median with be (N(y) + N(y+1))/2, where y = x/2, that is, the mean of the two middle members.\n",
    "- For example, where x = 10, the median will be the average of the 5th and 6th members after sorting."
   ]
  },
  {
   "cell_type": "code",
   "execution_count": 10,
   "metadata": {},
   "outputs": [],
   "source": [
    "# odd\n",
    "nums = [70, 4, 6, 7, 8, 10, 11, 40, 22, 3, 2]"
   ]
  },
  {
   "cell_type": "code",
   "execution_count": 11,
   "metadata": {},
   "outputs": [],
   "source": [
    "nums.sort(reverse=False)"
   ]
  },
  {
   "cell_type": "code",
   "execution_count": 12,
   "metadata": {},
   "outputs": [],
   "source": [
    "#nums.sort(reverse=True)"
   ]
  },
  {
   "cell_type": "code",
   "execution_count": 13,
   "metadata": {},
   "outputs": [
    {
     "data": {
      "text/plain": [
       "[2, 3, 4, 6, 7, 8, 10, 11, 22, 40, 70]"
      ]
     },
     "execution_count": 13,
     "metadata": {},
     "output_type": "execute_result"
    }
   ],
   "source": [
    "nums"
   ]
  },
  {
   "cell_type": "code",
   "execution_count": 5,
   "metadata": {},
   "outputs": [],
   "source": [
    "# even\n",
    "nums = [4, 6, 7, 8, 10, 11, 40, 55, 67, 90]"
   ]
  },
  {
   "cell_type": "code",
   "execution_count": 6,
   "metadata": {},
   "outputs": [
    {
     "data": {
      "text/plain": [
       "10"
      ]
     },
     "execution_count": 6,
     "metadata": {},
     "output_type": "execute_result"
    }
   ],
   "source": [
    "len(nums)"
   ]
  },
  {
   "cell_type": "code",
   "execution_count": 14,
   "metadata": {},
   "outputs": [
    {
     "name": "stdout",
     "output_type": "stream",
     "text": [
      "8\n"
     ]
    }
   ],
   "source": [
    "x = len(nums)\n",
    "if len(nums) % 2 != 0:\n",
    "    y = nums[int((x + 1)/2)-1]\n",
    "else:\n",
    "    y = (nums[int(x / 2)] + nums[int((x-1) / 2)]) / 2\n",
    "print(y)"
   ]
  }
 ],
 "metadata": {
  "kernelspec": {
   "display_name": "Python 3",
   "language": "python",
   "name": "python3"
  },
  "language_info": {
   "codemirror_mode": {
    "name": "ipython",
    "version": 3
   },
   "file_extension": ".py",
   "mimetype": "text/x-python",
   "name": "python",
   "nbconvert_exporter": "python",
   "pygments_lexer": "ipython3",
   "version": "3.6.5"
  }
 },
 "nbformat": 4,
 "nbformat_minor": 2
}
